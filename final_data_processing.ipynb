{
 "cells": [
  {
   "cell_type": "markdown",
   "metadata": {
    "heading_collapsed": true
   },
   "source": [
    "# additional"
   ]
  },
  {
   "cell_type": "code",
   "execution_count": null,
   "metadata": {
    "ExecuteTime": {
     "end_time": "2019-09-12T10:34:28.539987Z",
     "start_time": "2019-09-12T10:34:25.598872Z"
    },
    "hidden": true
   },
   "outputs": [],
   "source": [
    "import pandas as pd"
   ]
  },
  {
   "cell_type": "code",
   "execution_count": null,
   "metadata": {
    "ExecuteTime": {
     "end_time": "2019-09-12T10:37:06.944492Z",
     "start_time": "2019-09-12T10:37:05.663787Z"
    },
    "hidden": true
   },
   "outputs": [],
   "source": [
    "declarations = pd.read_csv('new_data/all_declarations_pmd.csv')"
   ]
  },
  {
   "cell_type": "code",
   "execution_count": null,
   "metadata": {
    "ExecuteTime": {
     "end_time": "2019-09-12T10:39:33.938609Z",
     "start_time": "2019-09-12T10:39:33.927545Z"
    },
    "hidden": true
   },
   "outputs": [],
   "source": [
    "population_grouped = population.groupby('oblast')['population'].sum().reset_index(name='population_count')"
   ]
  },
  {
   "cell_type": "code",
   "execution_count": null,
   "metadata": {
    "ExecuteTime": {
     "end_time": "2019-09-12T10:42:58.873550Z",
     "start_time": "2019-09-12T10:42:58.833230Z"
    },
    "hidden": true
   },
   "outputs": [],
   "source": [
    "decl_grouped = declarations.groupby('division_area')['count_declarations'].sum().reset_index(name='decl_count')"
   ]
  },
  {
   "cell_type": "code",
   "execution_count": null,
   "metadata": {
    "ExecuteTime": {
     "end_time": "2019-09-12T10:40:21.454505Z",
     "start_time": "2019-09-12T10:40:21.447509Z"
    },
    "hidden": true
   },
   "outputs": [],
   "source": [
    "decl_grouped['population'] = population_grouped.population_count"
   ]
  },
  {
   "cell_type": "code",
   "execution_count": null,
   "metadata": {
    "ExecuteTime": {
     "end_time": "2019-09-12T10:47:01.093899Z",
     "start_time": "2019-09-12T10:47:01.083495Z"
    },
    "hidden": true
   },
   "outputs": [],
   "source": [
    "population_grouped['area'] = decl_grouped.division_area"
   ]
  },
  {
   "cell_type": "code",
   "execution_count": null,
   "metadata": {
    "ExecuteTime": {
     "end_time": "2019-09-12T10:48:25.925851Z",
     "start_time": "2019-09-12T10:48:25.920973Z"
    },
    "hidden": true
   },
   "outputs": [],
   "source": [
    "decl_grouped.division_area = decl_grouped.division_area.str.title()\n",
    "decl_grouped.division_area = decl_grouped.division_area.str.replace('М.Київ', 'Київ')"
   ]
  },
  {
   "cell_type": "code",
   "execution_count": null,
   "metadata": {
    "ExecuteTime": {
     "end_time": "2019-09-12T10:50:57.754379Z",
     "start_time": "2019-09-12T10:50:57.737980Z"
    },
    "hidden": true
   },
   "outputs": [],
   "source": [
    "merged = pd.merge(decl_grouped,population_grouped, left_on='division_area', right_on='oblast')"
   ]
  },
  {
   "cell_type": "code",
   "execution_count": null,
   "metadata": {
    "ExecuteTime": {
     "end_time": "2019-09-12T10:51:32.714716Z",
     "start_time": "2019-09-12T10:51:32.706780Z"
    },
    "hidden": true
   },
   "outputs": [],
   "source": [
    "merged['ratio'] = merged.decl_count / merged.population_count * 100"
   ]
  },
  {
   "cell_type": "code",
   "execution_count": null,
   "metadata": {
    "ExecuteTime": {
     "end_time": "2019-09-12T10:53:43.579263Z",
     "start_time": "2019-09-12T10:53:43.539250Z"
    },
    "hidden": true
   },
   "outputs": [],
   "source": [
    "merged[['division_area', 'ratio']].to_csv('oblast_data.csv')"
   ]
  },
  {
   "cell_type": "markdown",
   "metadata": {},
   "source": [
    "# data for project"
   ]
  },
  {
   "cell_type": "code",
   "execution_count": 1,
   "metadata": {
    "ExecuteTime": {
     "end_time": "2019-09-13T16:09:04.408149Z",
     "start_time": "2019-09-13T16:09:01.615727Z"
    }
   },
   "outputs": [],
   "source": [
    "import pandas as pd"
   ]
  },
  {
   "cell_type": "code",
   "execution_count": 2,
   "metadata": {
    "ExecuteTime": {
     "end_time": "2019-09-13T16:09:06.913734Z",
     "start_time": "2019-09-13T16:09:04.422589Z"
    }
   },
   "outputs": [
    {
     "name": "stderr",
     "output_type": "stream",
     "text": [
      "/home/ptrbdr/git/medical_reform/env/lib/python3.6/site-packages/IPython/core/interactiveshell.py:3049: DtypeWarning: Columns (2) have mixed types. Specify dtype option on import or set low_memory=False.\n",
      "  interactivity=interactivity, compiler=compiler, result=result)\n"
     ]
    }
   ],
   "source": [
    "declarations = pd.read_csv('new_data/all_declarations_pmd.csv', dtype={'division_settlement_koatuu': 'str', \n",
    "                                                                     'legal_entity_edrpou': 'str'})\n",
    "pmd = pd.read_csv('new_data/pmd_all_contracted_legal_entities.csv', dtype={'legal_entity_edrpou': 'str'}) "
   ]
  },
  {
   "cell_type": "code",
   "execution_count": 4,
   "metadata": {
    "ExecuteTime": {
     "end_time": "2019-09-13T10:13:01.230513Z",
     "start_time": "2019-09-13T10:13:01.211375Z"
    }
   },
   "outputs": [
    {
     "data": {
      "text/plain": [
       "Index(['date_upd', 'division_area', 'division_region', 'division_settlement',\n",
       "       'division_settlement_type', 'division_settlement_koatuu',\n",
       "       'legal_entity_is_contract', 'legal_entity_id', 'legal_entity_edrpou',\n",
       "       'legal_entity_name', 'division_id', 'employee_speciality',\n",
       "       'party_gender', 'party_name', 'person_gender', 'person_age',\n",
       "       'count_declarations'],\n",
       "      dtype='object')"
      ]
     },
     "execution_count": 4,
     "metadata": {},
     "output_type": "execute_result"
    }
   ],
   "source": [
    "declarations.columns"
   ]
  },
  {
   "cell_type": "code",
   "execution_count": 6,
   "metadata": {
    "ExecuteTime": {
     "end_time": "2019-09-13T10:13:44.474497Z",
     "start_time": "2019-09-13T10:13:44.355410Z"
    }
   },
   "outputs": [],
   "source": [
    "t = declarations.groupby(['party_name', 'legal_entity_id'])['count_declarations'].sum().reset_index(name='decl_sum')"
   ]
  },
  {
   "cell_type": "code",
   "execution_count": 9,
   "metadata": {
    "ExecuteTime": {
     "end_time": "2019-09-13T10:14:29.727239Z",
     "start_time": "2019-09-13T10:14:29.716927Z"
    }
   },
   "outputs": [],
   "source": [
    "small = len(t[t.decl_sum > 2000])\n",
    "large = len(t[t.decl_sum < 1000])"
   ]
  },
  {
   "cell_type": "code",
   "execution_count": 12,
   "metadata": {
    "ExecuteTime": {
     "end_time": "2019-09-13T10:14:51.356090Z",
     "start_time": "2019-09-13T10:14:51.350167Z"
    }
   },
   "outputs": [
    {
     "data": {
      "text/plain": [
       "(1859, 9122, 22919)"
      ]
     },
     "execution_count": 12,
     "metadata": {},
     "output_type": "execute_result"
    }
   ],
   "source": [
    "small,large,len(t)"
   ]
  },
  {
   "cell_type": "code",
   "execution_count": 34,
   "metadata": {
    "ExecuteTime": {
     "end_time": "2019-09-12T20:02:20.183326Z",
     "start_time": "2019-09-12T20:02:20.124468Z"
    }
   },
   "outputs": [],
   "source": [
    "hospitals_edrpou = pd.read_csv('old_data/hospitals_grouped_by_regions.csv', dtype={'le_transfer': 'str'})"
   ]
  },
  {
   "cell_type": "code",
   "execution_count": 35,
   "metadata": {
    "ExecuteTime": {
     "end_time": "2019-09-12T20:02:20.643692Z",
     "start_time": "2019-09-12T20:02:20.587139Z"
    }
   },
   "outputs": [],
   "source": [
    "population = pd.read_csv('old_data/population.csv')"
   ]
  },
  {
   "cell_type": "code",
   "execution_count": null,
   "metadata": {},
   "outputs": [],
   "source": [
    "declarations_grouped = declarations.groupby(['legal_entity_id'],\n",
    "                                            as_index=False)['count_declarations'].sum()"
   ]
  },
  {
   "cell_type": "code",
   "execution_count": null,
   "metadata": {
    "ExecuteTime": {
     "end_time": "2019-09-12T14:03:53.859617Z",
     "start_time": "2019-09-12T14:03:53.741542Z"
    }
   },
   "outputs": [],
   "source": [
    "decl_for_stats = declarations.groupby(['legal_entity_id', 'party_name'],as_index=False)['count_declarations'].sum()"
   ]
  },
  {
   "cell_type": "code",
   "execution_count": null,
   "metadata": {
    "ExecuteTime": {
     "end_time": "2019-09-12T15:57:07.113720Z",
     "start_time": "2019-09-12T15:57:07.072569Z"
    }
   },
   "outputs": [],
   "source": [
    "decl_for_stats.sort_values('count_declarations', ascending=False)"
   ]
  },
  {
   "cell_type": "code",
   "execution_count": null,
   "metadata": {
    "ExecuteTime": {
     "end_time": "2019-09-12T16:09:39.235355Z",
     "start_time": "2019-09-12T16:09:39.068133Z"
    }
   },
   "outputs": [],
   "source": [
    "declarations[declarations.party_name.str.contains(\"Верховець\")].groupby('person_age')['count_declarations'].sum()"
   ]
  },
  {
   "cell_type": "markdown",
   "metadata": {
    "heading_collapsed": true
   },
   "source": [
    "## horizontal bar chart\n",
    "\n",
    "цю хуйню треба виправити, випадає дуже багато лікарень (десь 600) і через це по багатьох районах нестача. "
   ]
  },
  {
   "cell_type": "code",
   "execution_count": null,
   "metadata": {
    "hidden": true
   },
   "outputs": [],
   "source": [
    "merged_hospitals = pd.merge(pmd, hospitals_edrpou, left_on=\"legal_entity_edrpou\", right_on=\"le_transfer\", how=\"left\")\n",
    "merged_hospitals = merged_hospitals[~merged_hospitals.name.isnull()]"
   ]
  },
  {
   "cell_type": "code",
   "execution_count": null,
   "metadata": {
    "hidden": true
   },
   "outputs": [],
   "source": [
    "merged_hospitals_population = pd.merge(merged_hospitals,\n",
    "                                       population, left_on=['name', 'oblast_name'],\n",
    "                                       right_on=['rajon_grouped', 'oblast'], how='left')\n",
    "\n",
    "merged_hospitals_population = merged_hospitals_population[~merged_hospitals_population.division_region.isnull()]"
   ]
  },
  {
   "cell_type": "code",
   "execution_count": null,
   "metadata": {
    "hidden": true
   },
   "outputs": [],
   "source": [
    "hospitals_population_declarations = pd.merge(merged_hospitals_population,\n",
    "                                             declarations_grouped, on='legal_entity_id', how='left')\n",
    "\n",
    "hospitals_population_declarations = hospitals_population_declarations[~hospitals_population_declarations.count_declarations.isnull()]"
   ]
  },
  {
   "cell_type": "code",
   "execution_count": null,
   "metadata": {
    "hidden": true
   },
   "outputs": [],
   "source": [
    "hospitals_population_declarations['decl_ratio'] = pd.Series(hospitals_population_declarations.count_declarations / hospitals_population_declarations.population)"
   ]
  },
  {
   "cell_type": "code",
   "execution_count": null,
   "metadata": {
    "hidden": true
   },
   "outputs": [],
   "source": [
    "hospitals_population_declarations[hospitals_population_declarations.decl_ratio < 0.5]"
   ]
  },
  {
   "cell_type": "code",
   "execution_count": null,
   "metadata": {
    "hidden": true
   },
   "outputs": [],
   "source": []
  },
  {
   "cell_type": "code",
   "execution_count": null,
   "metadata": {
    "hidden": true
   },
   "outputs": [],
   "source": []
  },
  {
   "cell_type": "markdown",
   "metadata": {},
   "source": [
    "# data for table \n",
    "\n",
    "по суті він не оновлений, тут старі дані, але поки нехай буде, щоб не зайобуватися"
   ]
  },
  {
   "cell_type": "code",
   "execution_count": 19,
   "metadata": {
    "ExecuteTime": {
     "end_time": "2019-09-13T17:12:44.132655Z",
     "start_time": "2019-09-13T17:12:44.102868Z"
    }
   },
   "outputs": [
    {
     "ename": "ValueError",
     "evalue": "Expected object or value",
     "output_type": "error",
     "traceback": [
      "\u001b[0;31m---------------------------------------------------------------------------\u001b[0m",
      "\u001b[0;31mValueError\u001b[0m                                Traceback (most recent call last)",
      "\u001b[0;32m<ipython-input-19-7d0fc0ade1ce>\u001b[0m in \u001b[0;36m<module>\u001b[0;34m\u001b[0m\n\u001b[0;32m----> 1\u001b[0;31m \u001b[0mprozorro\u001b[0m \u001b[0;34m=\u001b[0m \u001b[0mpd\u001b[0m\u001b[0;34m.\u001b[0m\u001b[0mread_json\u001b[0m\u001b[0;34m(\u001b[0m\u001b[0;34m'old_data/data_short_line.json'\u001b[0m\u001b[0;34m,\u001b[0m \u001b[0mdtype\u001b[0m\u001b[0;34m=\u001b[0m\u001b[0;34m{\u001b[0m\u001b[0;34m'hospital_edrpou'\u001b[0m\u001b[0;34m:\u001b[0m \u001b[0;34m'str'\u001b[0m\u001b[0;34m}\u001b[0m\u001b[0;34m)\u001b[0m\u001b[0;34m\u001b[0m\u001b[0;34m\u001b[0m\u001b[0m\n\u001b[0m\u001b[1;32m      2\u001b[0m \u001b[0;31m# prozorro['id_item_short'] = 'type:' + prozorro.id_item.str[:3]\u001b[0m\u001b[0;34m\u001b[0m\u001b[0;34m\u001b[0m\u001b[0;34m\u001b[0m\u001b[0m\n\u001b[1;32m      3\u001b[0m \u001b[0mprozorro\u001b[0m\u001b[0;34m[\u001b[0m\u001b[0;34m'id_item_short'\u001b[0m\u001b[0;34m]\u001b[0m \u001b[0;34m=\u001b[0m \u001b[0;34m[\u001b[0m\u001b[0;34m\"type:\"\u001b[0m\u001b[0;34m+\u001b[0m\u001b[0ma\u001b[0m\u001b[0;34m[\u001b[0m\u001b[0;34m:\u001b[0m\u001b[0;36m2\u001b[0m\u001b[0;34m]\u001b[0m\u001b[0;32mif\u001b[0m \u001b[0ma\u001b[0m\u001b[0;34m[\u001b[0m\u001b[0;34m:\u001b[0m\u001b[0;36m2\u001b[0m\u001b[0;34m]\u001b[0m \u001b[0;34m!=\u001b[0m \u001b[0;34m'33'\u001b[0m \u001b[0;32melse\u001b[0m \u001b[0;34m\"type:\"\u001b[0m\u001b[0;34m+\u001b[0m\u001b[0ma\u001b[0m\u001b[0;34m[\u001b[0m\u001b[0;34m:\u001b[0m\u001b[0;36m3\u001b[0m\u001b[0;34m]\u001b[0m \u001b[0;32mfor\u001b[0m \u001b[0ma\u001b[0m \u001b[0;32min\u001b[0m \u001b[0mprozorro\u001b[0m\u001b[0;34m.\u001b[0m\u001b[0mid_item\u001b[0m\u001b[0;34m]\u001b[0m\u001b[0;34m\u001b[0m\u001b[0;34m\u001b[0m\u001b[0m\n\u001b[1;32m      4\u001b[0m \u001b[0mprozorro\u001b[0m\u001b[0;34m.\u001b[0m\u001b[0mdate\u001b[0m \u001b[0;34m=\u001b[0m \u001b[0mpd\u001b[0m\u001b[0;34m.\u001b[0m\u001b[0mto_datetime\u001b[0m\u001b[0;34m(\u001b[0m\u001b[0mprozorro\u001b[0m\u001b[0;34m.\u001b[0m\u001b[0mdate\u001b[0m\u001b[0;34m,\u001b[0m \u001b[0mutc\u001b[0m\u001b[0;34m=\u001b[0m\u001b[0;32mTrue\u001b[0m\u001b[0;34m)\u001b[0m\u001b[0;34m\u001b[0m\u001b[0;34m\u001b[0m\u001b[0m\n\u001b[1;32m      5\u001b[0m \u001b[0mprozorro\u001b[0m\u001b[0;34m[\u001b[0m\u001b[0;34m'date'\u001b[0m\u001b[0;34m]\u001b[0m \u001b[0;34m=\u001b[0m \u001b[0mprozorro\u001b[0m\u001b[0;34m.\u001b[0m\u001b[0mdate\u001b[0m\u001b[0;34m.\u001b[0m\u001b[0mdt\u001b[0m\u001b[0;34m.\u001b[0m\u001b[0mtz_localize\u001b[0m\u001b[0;34m(\u001b[0m\u001b[0;32mNone\u001b[0m\u001b[0;34m)\u001b[0m\u001b[0;34m\u001b[0m\u001b[0;34m\u001b[0m\u001b[0m\n",
      "\u001b[0;32m~/git/medical_reform/env/lib/python3.6/site-packages/pandas/io/json/json.py\u001b[0m in \u001b[0;36mread_json\u001b[0;34m(path_or_buf, orient, typ, dtype, convert_axes, convert_dates, keep_default_dates, numpy, precise_float, date_unit, encoding, lines, chunksize, compression)\u001b[0m\n\u001b[1;32m    425\u001b[0m         \u001b[0;32mreturn\u001b[0m \u001b[0mjson_reader\u001b[0m\u001b[0;34m\u001b[0m\u001b[0;34m\u001b[0m\u001b[0m\n\u001b[1;32m    426\u001b[0m \u001b[0;34m\u001b[0m\u001b[0m\n\u001b[0;32m--> 427\u001b[0;31m     \u001b[0mresult\u001b[0m \u001b[0;34m=\u001b[0m \u001b[0mjson_reader\u001b[0m\u001b[0;34m.\u001b[0m\u001b[0mread\u001b[0m\u001b[0;34m(\u001b[0m\u001b[0;34m)\u001b[0m\u001b[0;34m\u001b[0m\u001b[0;34m\u001b[0m\u001b[0m\n\u001b[0m\u001b[1;32m    428\u001b[0m     \u001b[0;32mif\u001b[0m \u001b[0mshould_close\u001b[0m\u001b[0;34m:\u001b[0m\u001b[0;34m\u001b[0m\u001b[0;34m\u001b[0m\u001b[0m\n\u001b[1;32m    429\u001b[0m         \u001b[0;32mtry\u001b[0m\u001b[0;34m:\u001b[0m\u001b[0;34m\u001b[0m\u001b[0;34m\u001b[0m\u001b[0m\n",
      "\u001b[0;32m~/git/medical_reform/env/lib/python3.6/site-packages/pandas/io/json/json.py\u001b[0m in \u001b[0;36mread\u001b[0;34m(self)\u001b[0m\n\u001b[1;32m    535\u001b[0m             )\n\u001b[1;32m    536\u001b[0m         \u001b[0;32melse\u001b[0m\u001b[0;34m:\u001b[0m\u001b[0;34m\u001b[0m\u001b[0;34m\u001b[0m\u001b[0m\n\u001b[0;32m--> 537\u001b[0;31m             \u001b[0mobj\u001b[0m \u001b[0;34m=\u001b[0m \u001b[0mself\u001b[0m\u001b[0;34m.\u001b[0m\u001b[0m_get_object_parser\u001b[0m\u001b[0;34m(\u001b[0m\u001b[0mself\u001b[0m\u001b[0;34m.\u001b[0m\u001b[0mdata\u001b[0m\u001b[0;34m)\u001b[0m\u001b[0;34m\u001b[0m\u001b[0;34m\u001b[0m\u001b[0m\n\u001b[0m\u001b[1;32m    538\u001b[0m         \u001b[0mself\u001b[0m\u001b[0;34m.\u001b[0m\u001b[0mclose\u001b[0m\u001b[0;34m(\u001b[0m\u001b[0;34m)\u001b[0m\u001b[0;34m\u001b[0m\u001b[0;34m\u001b[0m\u001b[0m\n\u001b[1;32m    539\u001b[0m         \u001b[0;32mreturn\u001b[0m \u001b[0mobj\u001b[0m\u001b[0;34m\u001b[0m\u001b[0;34m\u001b[0m\u001b[0m\n",
      "\u001b[0;32m~/git/medical_reform/env/lib/python3.6/site-packages/pandas/io/json/json.py\u001b[0m in \u001b[0;36m_get_object_parser\u001b[0;34m(self, json)\u001b[0m\n\u001b[1;32m    554\u001b[0m         \u001b[0mobj\u001b[0m \u001b[0;34m=\u001b[0m \u001b[0;32mNone\u001b[0m\u001b[0;34m\u001b[0m\u001b[0;34m\u001b[0m\u001b[0m\n\u001b[1;32m    555\u001b[0m         \u001b[0;32mif\u001b[0m \u001b[0mtyp\u001b[0m \u001b[0;34m==\u001b[0m \u001b[0;34m'frame'\u001b[0m\u001b[0;34m:\u001b[0m\u001b[0;34m\u001b[0m\u001b[0;34m\u001b[0m\u001b[0m\n\u001b[0;32m--> 556\u001b[0;31m             \u001b[0mobj\u001b[0m \u001b[0;34m=\u001b[0m \u001b[0mFrameParser\u001b[0m\u001b[0;34m(\u001b[0m\u001b[0mjson\u001b[0m\u001b[0;34m,\u001b[0m \u001b[0;34m**\u001b[0m\u001b[0mkwargs\u001b[0m\u001b[0;34m)\u001b[0m\u001b[0;34m.\u001b[0m\u001b[0mparse\u001b[0m\u001b[0;34m(\u001b[0m\u001b[0;34m)\u001b[0m\u001b[0;34m\u001b[0m\u001b[0;34m\u001b[0m\u001b[0m\n\u001b[0m\u001b[1;32m    557\u001b[0m \u001b[0;34m\u001b[0m\u001b[0m\n\u001b[1;32m    558\u001b[0m         \u001b[0;32mif\u001b[0m \u001b[0mtyp\u001b[0m \u001b[0;34m==\u001b[0m \u001b[0;34m'series'\u001b[0m \u001b[0;32mor\u001b[0m \u001b[0mobj\u001b[0m \u001b[0;32mis\u001b[0m \u001b[0;32mNone\u001b[0m\u001b[0;34m:\u001b[0m\u001b[0;34m\u001b[0m\u001b[0;34m\u001b[0m\u001b[0m\n",
      "\u001b[0;32m~/git/medical_reform/env/lib/python3.6/site-packages/pandas/io/json/json.py\u001b[0m in \u001b[0;36mparse\u001b[0;34m(self)\u001b[0m\n\u001b[1;32m    650\u001b[0m \u001b[0;34m\u001b[0m\u001b[0m\n\u001b[1;32m    651\u001b[0m         \u001b[0;32melse\u001b[0m\u001b[0;34m:\u001b[0m\u001b[0;34m\u001b[0m\u001b[0;34m\u001b[0m\u001b[0m\n\u001b[0;32m--> 652\u001b[0;31m             \u001b[0mself\u001b[0m\u001b[0;34m.\u001b[0m\u001b[0m_parse_no_numpy\u001b[0m\u001b[0;34m(\u001b[0m\u001b[0;34m)\u001b[0m\u001b[0;34m\u001b[0m\u001b[0;34m\u001b[0m\u001b[0m\n\u001b[0m\u001b[1;32m    653\u001b[0m \u001b[0;34m\u001b[0m\u001b[0m\n\u001b[1;32m    654\u001b[0m         \u001b[0;32mif\u001b[0m \u001b[0mself\u001b[0m\u001b[0;34m.\u001b[0m\u001b[0mobj\u001b[0m \u001b[0;32mis\u001b[0m \u001b[0;32mNone\u001b[0m\u001b[0;34m:\u001b[0m\u001b[0;34m\u001b[0m\u001b[0;34m\u001b[0m\u001b[0m\n",
      "\u001b[0;32m~/git/medical_reform/env/lib/python3.6/site-packages/pandas/io/json/json.py\u001b[0m in \u001b[0;36m_parse_no_numpy\u001b[0;34m(self)\u001b[0m\n\u001b[1;32m    869\u001b[0m         \u001b[0;32mif\u001b[0m \u001b[0morient\u001b[0m \u001b[0;34m==\u001b[0m \u001b[0;34m\"columns\"\u001b[0m\u001b[0;34m:\u001b[0m\u001b[0;34m\u001b[0m\u001b[0;34m\u001b[0m\u001b[0m\n\u001b[1;32m    870\u001b[0m             self.obj = DataFrame(\n\u001b[0;32m--> 871\u001b[0;31m                 loads(json, precise_float=self.precise_float), dtype=None)\n\u001b[0m\u001b[1;32m    872\u001b[0m         \u001b[0;32melif\u001b[0m \u001b[0morient\u001b[0m \u001b[0;34m==\u001b[0m \u001b[0;34m\"split\"\u001b[0m\u001b[0;34m:\u001b[0m\u001b[0;34m\u001b[0m\u001b[0;34m\u001b[0m\u001b[0m\n\u001b[1;32m    873\u001b[0m             decoded = {str(k): v for k, v in compat.iteritems(\n",
      "\u001b[0;31mValueError\u001b[0m: Expected object or value"
     ]
    }
   ],
   "source": [
    "prozorro = pd.read_json('old_data/data_short_line.json', dtype={'hospital_edrpou': 'str'})\n",
    "# prozorro['id_item_short'] = 'type:' + prozorro.id_item.str[:3]\n",
    "prozorro['id_item_short'] = [\"type:\"+a[:2]if a[:2] != '33' else \"type:\"+a[:3] for a in prozorro.id_item]\n",
    "prozorro.date = pd.to_datetime(prozorro.date, utc=True)\n",
    "prozorro['date'] = prozorro.date.dt.tz_localize(None)\n",
    "prozorro = prozorro[~prozorro.date.isnull()]\n",
    "prozorro['date_month'] = pd.to_datetime(prozorro.date.map(lambda x: str(x.year) + \"-\" + str(x.month)), format=\"%Y-%m\")\n",
    "\n",
    "prozorro = pd.merge(prozorro, prozorro.groupby('hospital_name', as_index=False)['sum'].size()\\\n",
    "         .to_frame('number_of_tenders'), how='left', on='hospital_name')\n",
    "prozorro = prozorro.loc[prozorro.hospital_edrpou != '05766356']\n"
   ]
  },
  {
   "cell_type": "code",
   "execution_count": null,
   "metadata": {
    "ExecuteTime": {
     "end_time": "2019-08-07T15:43:05.306875Z",
     "start_time": "2019-08-07T15:43:04.742585Z"
    }
   },
   "outputs": [],
   "source": [
    "top_100_per_category = prozorro.groupby('id_item_short').apply(lambda x: x.nlargest(100, 'sum')).reset_index(drop=True)\n",
    "(top_100_per_category[['hospital_name', 'overal_title', 'id_item_short', 'sum']]\n",
    "     .to_json('output/top_100_per_category.json', 'records', force_ascii=False))"
   ]
  },
  {
   "cell_type": "code",
   "execution_count": null,
   "metadata": {
    "ExecuteTime": {
     "end_time": "2019-08-07T15:43:05.549094Z",
     "start_time": "2019-08-07T15:43:05.413577Z"
    }
   },
   "outputs": [],
   "source": [
    "hospitals_grouped_by_regions = pd.read_csv('old_data/hospitals_grouped_by_regions.csv')\n"
   ]
  },
  {
   "cell_type": "code",
   "execution_count": null,
   "metadata": {
    "ExecuteTime": {
     "end_time": "2019-08-07T15:45:19.544593Z",
     "start_time": "2019-08-07T15:45:19.511255Z"
    }
   },
   "outputs": [],
   "source": [
    "table_data = pd.merge(top_100_per_category, hospitals_grouped_by_regions,\n",
    "         left_on='hospital_edrpou', right_on='le_transfer',\n",
    "         how='left'\n",
    "        )"
   ]
  },
  {
   "cell_type": "code",
   "execution_count": null,
   "metadata": {
    "ExecuteTime": {
     "end_time": "2019-08-07T16:05:44.704583Z",
     "start_time": "2019-08-07T16:05:44.530782Z"
    }
   },
   "outputs": [],
   "source": [
    "output = (\n",
    "    table_data[~table_data.oblast_name.isnull()]\n",
    "         [[\n",
    "           'hospital_name', 'overal_title',\n",
    "           'hospital_edrpou','id_item_short',\n",
    "           'oblast_name', 'sum'\n",
    "         ]]\n",
    "     )\n",
    "output.loc[output.oblast_name.str.contains('м. Київ'), 'oblast_name'] = 'Київ'\n",
    "\n",
    "output.to_json('output/top_100_per_category.json', 'records', force_ascii=False)"
   ]
  },
  {
   "cell_type": "markdown",
   "metadata": {},
   "source": [
    "# data for slope charts"
   ]
  },
  {
   "cell_type": "code",
   "execution_count": null,
   "metadata": {},
   "outputs": [],
   "source": [
    "# поки зачекає"
   ]
  },
  {
   "cell_type": "markdown",
   "metadata": {
    "heading_collapsed": true
   },
   "source": [
    "# data for doctors table"
   ]
  },
  {
   "cell_type": "code",
   "execution_count": null,
   "metadata": {
    "ExecuteTime": {
     "end_time": "2019-09-12T18:42:25.418114Z",
     "start_time": "2019-09-12T18:42:25.261448Z"
    },
    "hidden": true
   },
   "outputs": [],
   "source": [
    "import pandas as pd\n",
    "pmd = pd.read_csv('new_data/pmd_all_contracted_legal_entities.csv')"
   ]
  },
  {
   "cell_type": "code",
   "execution_count": null,
   "metadata": {
    "ExecuteTime": {
     "end_time": "2019-09-12T18:48:22.987406Z",
     "start_time": "2019-09-12T18:48:22.812977Z"
    },
    "hidden": true
   },
   "outputs": [],
   "source": [
    "declarations_hospital_address = pd.merge(declarations, pmd[[\n",
    "                                                           'division_residence_addresses',\n",
    "                                                           'legal_entity_id', 'division_id']],\n",
    "on=['legal_entity_id', 'division_id'], how='left')"
   ]
  },
  {
   "cell_type": "code",
   "execution_count": null,
   "metadata": {
    "ExecuteTime": {
     "end_time": "2019-09-12T18:49:18.385639Z",
     "start_time": "2019-09-12T18:49:18.310775Z"
    },
    "hidden": true
   },
   "outputs": [],
   "source": [
    "declarations_hospital_address = declarations_hospital_address[~declarations_hospital_address.division_residence_addresses.isnull()]"
   ]
  },
  {
   "cell_type": "code",
   "execution_count": null,
   "metadata": {
    "ExecuteTime": {
     "end_time": "2019-09-12T18:49:34.939223Z",
     "start_time": "2019-09-12T18:49:33.695544Z"
    },
    "hidden": true
   },
   "outputs": [],
   "source": [
    "declarations_hospital_address['division_residence_addresses'] = (declarations_hospital_address.division_residence_addresses.str.split(', ').str[-2:].str.join(', '))\n",
    "\n"
   ]
  },
  {
   "cell_type": "code",
   "execution_count": null,
   "metadata": {
    "ExecuteTime": {
     "end_time": "2019-09-12T18:51:03.504138Z",
     "start_time": "2019-09-12T18:51:02.371651Z"
    },
    "hidden": true
   },
   "outputs": [],
   "source": [
    "declarations_hospital_address['division_residence_addresses'] = declarations_hospital_address.division_residence_addresses.str.title()\n",
    "declarations_hospital_address['legal_entity_name'] = declarations_hospital_address.legal_entity_name.str.title()\n",
    "declarations_hospital_address['division_area'] = declarations_hospital_address.division_area.str.title()\n",
    "declarations_hospital_address.loc[declarations_hospital_address.division_area == 'М.Київ', 'division_area'] = 'Київ'\n",
    "declarations_hospital_address['division_residence_addresses'] = declarations_hospital_address.division_residence_addresses.str.title()\n",
    "declarations_hospital_address['division_residence_addresses'] = declarations_hospital_address.division_residence_addresses.str[0].str.lower() + declarations_hospital_address.division_residence_addresses.str[1:]\n",
    "declarations_hospital_address['division_residence_addresses'] = declarations_hospital_address.division_residence_addresses.str.replace('Будинок', 'будинок')\n"
   ]
  },
  {
   "cell_type": "code",
   "execution_count": null,
   "metadata": {
    "ExecuteTime": {
     "end_time": "2019-09-12T18:58:44.092582Z",
     "start_time": "2019-09-12T18:58:43.974740Z"
    },
    "hidden": true
   },
   "outputs": [],
   "source": [
    "decl_count_total = declarations_hospital_address.groupby(['division_id', 'party_name'])['count_declarations']\\\n",
    "    .sum().reset_index(name='decl_count_total')"
   ]
  },
  {
   "cell_type": "code",
   "execution_count": null,
   "metadata": {
    "ExecuteTime": {
     "end_time": "2019-09-12T18:59:31.337421Z",
     "start_time": "2019-09-12T18:59:31.061947Z"
    },
    "hidden": true
   },
   "outputs": [],
   "source": [
    "declarations_hospital_address_total = pd.merge(declarations_hospital_address, decl_count_total,\n",
    "                                               on=['division_id', 'party_name'], how='left')"
   ]
  },
  {
   "cell_type": "code",
   "execution_count": null,
   "metadata": {
    "ExecuteTime": {
     "end_time": "2019-09-12T19:12:32.059700Z",
     "start_time": "2019-09-12T19:12:32.030819Z"
    },
    "hidden": true
   },
   "outputs": [],
   "source": [
    "declarations_hospital_address_total_short = declarations_hospital_address_total[['party_name', 'legal_entity_name', 'decl_count_total',\n",
    "                                    'division_settlement', 'legal_entity_edrpou', 'division_area', 'division_residence_addresses']]\n",
    "\n",
    "\n",
    "# 'doctor_full_name', 'le_transfer', 'total_decl_count', 'division_settlement', 'da_area', 'division_address'"
   ]
  },
  {
   "cell_type": "code",
   "execution_count": null,
   "metadata": {
    "ExecuteTime": {
     "end_time": "2019-09-12T19:12:32.872251Z",
     "start_time": "2019-09-12T19:12:32.396705Z"
    },
    "hidden": true
   },
   "outputs": [],
   "source": [
    "declarations_hospital_address_total_short['division_settlement'] = declarations_hospital_address_total_short\\\n",
    "    .division_settlement.str.title()\n",
    "declarations_hospital_address_total_short['division_area'] = declarations_hospital_address_total_short\\\n",
    "    .division_area.str.title()"
   ]
  },
  {
   "cell_type": "code",
   "execution_count": null,
   "metadata": {
    "ExecuteTime": {
     "end_time": "2019-09-12T19:12:34.418885Z",
     "start_time": "2019-09-12T19:12:34.413382Z"
    },
    "hidden": true
   },
   "outputs": [],
   "source": [
    "# 'doctor_full_name', 'le_transfer', 'total_decl_count', 'division_settlement', 'da_area', 'division_address'"
   ]
  },
  {
   "cell_type": "code",
   "execution_count": null,
   "metadata": {
    "ExecuteTime": {
     "end_time": "2019-09-12T19:12:35.213978Z",
     "start_time": "2019-09-12T19:12:34.746472Z"
    },
    "hidden": true
   },
   "outputs": [],
   "source": [
    "repl = lambda m: m.group(0).lower()\n",
    "declarations_hospital_address_total_short['division_residence_addresses'] = (declarations_hospital_address_total_short.division_residence_addresses\n",
    "                                                    .str.replace(\"((?<=').)\", repl))"
   ]
  },
  {
   "cell_type": "code",
   "execution_count": null,
   "metadata": {
    "ExecuteTime": {
     "end_time": "2019-09-12T19:12:36.283871Z",
     "start_time": "2019-09-12T19:12:36.280595Z"
    },
    "hidden": true
   },
   "outputs": [],
   "source": [
    "to_replace = {\"Кам'Янський\": \"Кам'янський\", \"Кам'Янка\": \"Кам'янка\",\"Об'Єднаної\": \"Об'єднаної\",\n",
    "              \"П'Ятий\": \"П'ятий\", \"Дем'Янівна\": \"Дем'янівна\"}"
   ]
  },
  {
   "cell_type": "code",
   "execution_count": null,
   "metadata": {
    "ExecuteTime": {
     "end_time": "2019-09-12T19:12:38.506811Z",
     "start_time": "2019-09-12T19:12:36.813923Z"
    },
    "hidden": true
   },
   "outputs": [],
   "source": [
    "declarations_hospital_address_total_short['legal_entity_name'] = declarations_hospital_address_total_short.legal_entity_name.replace(to_replace, regex=True).replace(\"''\", \"\").str.strip()"
   ]
  },
  {
   "cell_type": "code",
   "execution_count": null,
   "metadata": {
    "ExecuteTime": {
     "end_time": "2019-09-12T19:12:39.847250Z",
     "start_time": "2019-09-12T19:12:38.719860Z"
    },
    "hidden": true
   },
   "outputs": [],
   "source": [
    "declarations_hospital_address_total_short['legal_entity_name'] = (declarations_hospital_address_total_short\n",
    "    .legal_entity_name.str.replace('Комунальне Некомерційне Підприємство', '')\n",
    "    .str.replace(\"Комунальне Медичне Підприємство\", \"\")\n",
    "    .str.replace(\"Приватне Акціонерне Товариство\", '')\n",
    "    .str.replace(\"Центр Первинної Медичної Допомоги\", '')\n",
    "    .str.replace(\"Товариство З Обмеженою Відповідальністю\", \"\"))\n"
   ]
  },
  {
   "cell_type": "code",
   "execution_count": null,
   "metadata": {
    "ExecuteTime": {
     "end_time": "2019-09-12T19:12:44.724567Z",
     "start_time": "2019-09-12T19:12:44.344964Z"
    },
    "hidden": true
   },
   "outputs": [],
   "source": [
    "declarations_hospital_address_total_short.legal_entity_name = declarations_hospital_address_total_short.legal_entity_name.str.replace(\"'Я\", \"'я\")"
   ]
  },
  {
   "cell_type": "code",
   "execution_count": null,
   "metadata": {
    "ExecuteTime": {
     "end_time": "2019-09-12T19:13:03.550738Z",
     "start_time": "2019-09-12T19:13:03.521532Z"
    },
    "hidden": true
   },
   "outputs": [],
   "source": [
    "declarations_hospital_address_total_short = declarations_hospital_address_total_short.drop('legal_entity_name', axis=1)"
   ]
  },
  {
   "cell_type": "code",
   "execution_count": null,
   "metadata": {
    "ExecuteTime": {
     "end_time": "2019-09-12T19:13:10.432471Z",
     "start_time": "2019-09-12T19:13:10.421442Z"
    },
    "hidden": true
   },
   "outputs": [],
   "source": [
    "declarations_hospital_address_total_short.columns"
   ]
  },
  {
   "cell_type": "code",
   "execution_count": null,
   "metadata": {
    "ExecuteTime": {
     "end_time": "2019-09-12T19:13:39.477974Z",
     "start_time": "2019-09-12T19:13:39.467134Z"
    },
    "hidden": true
   },
   "outputs": [],
   "source": [
    "declarations_hospital_address_total_short.columns = ['doctor_full_name', 'total_decl_count',\n",
    "                                                     'division_settlement','le_transfer', 'da_area', 'division_address',\n",
    "                                                    ]\n",
    "# 'doctor_full_name', 'le_transfer', 'total_decl_count', 'division_settlement', 'da_area', 'division_address'"
   ]
  },
  {
   "cell_type": "code",
   "execution_count": null,
   "metadata": {
    "ExecuteTime": {
     "end_time": "2019-09-12T19:13:59.200213Z",
     "start_time": "2019-09-12T19:13:58.669660Z"
    },
    "hidden": true
   },
   "outputs": [],
   "source": [
    "(declarations_hospital_address_total_short\n",
    "    .to_json('output/doctors_for_table_new.json', force_ascii=False, orient='records'))\n"
   ]
  },
  {
   "cell_type": "markdown",
   "metadata": {},
   "source": [
    "# Horizontal bar chart"
   ]
  },
  {
   "cell_type": "code",
   "execution_count": null,
   "metadata": {},
   "outputs": [],
   "source": [
    "population_koatuu = pd.read_csv('https://docs.google.com/spreadsheets/d/e/2PACX-1vQbS_RGIXyICClVFJvy-TsxK4GT6CW8QXobMfT9FBopsab_ZYqHmwaXZmUFCHrRVBX5RezxepaPRhSs/pub?gid=1442300754&single=true&output=csv')\n",
    "\n",
    "population_koatuu['short_koatuu'] = population_koatuu['id'].str.replace('T0*', \"\", regex=True).str[:5]\n",
    "declarations['short_koatuu'] = declarations.division_settlement_koatuu.str[:5]\n",
    "\n",
    "# declarations['short_koatuu'] = declarations.division_settlement_koatuu.str[:4]\n",
    "# population_koatuu['short_koatuu'] = population_koatuu['id'].str[3:8]\n",
    "\n",
    "merged_decl_population = pd.merge(declarations, population_koatuu[['short_koatuu', 'rajon_grouped', 'oblast', 'total_population']],\n",
    "        on='short_koatuu', how='left')\n",
    "\n",
    "merged_decl_population_without_null = merged_decl_population[~merged_decl_population.rajon_grouped.isnull()]\n",
    "\n",
    "merged_decl_population_without_null['total_decl'] = merged_decl_population_without_null.groupby('short_koatuu').count_declarations.transform('sum')\n",
    "\n",
    "merged_decl_population_without_null['declarations_ratio'] = (merged_decl_population_without_null.total_decl/merged_decl_population_without_null.total_population * 100)\n",
    "\n",
    "output = merged_decl_population_without_null[merged_decl_population_without_null.ratio > 35].drop_duplicates(['rajon_grouped', 'oblast'])\n",
    "output.loc[output.oblast == 'Київ', 'oblast'] = 'Київська'\n",
    "\n",
    "output[['oblast', 'rajon_grouped', 'declarations_ratio']].to_json('output/rajon_stats_new.json', force_ascii=False, orient='records')\n"
   ]
  },
  {
   "cell_type": "markdown",
   "metadata": {},
   "source": [
    "# Bar chart"
   ]
  },
  {
   "cell_type": "code",
   "execution_count": 3,
   "metadata": {
    "ExecuteTime": {
     "end_time": "2019-09-13T16:09:07.156153Z",
     "start_time": "2019-09-13T16:09:07.033638Z"
    }
   },
   "outputs": [],
   "source": [
    "declarations['decl_count'] = declarations.groupby(['party_name', 'division_id']).count_declarations.transform('sum')"
   ]
  },
  {
   "cell_type": "code",
   "execution_count": 4,
   "metadata": {
    "ExecuteTime": {
     "end_time": "2019-09-13T16:09:09.027299Z",
     "start_time": "2019-09-13T16:09:09.023223Z"
    }
   },
   "outputs": [],
   "source": [
    "tarifs = {'y0-5': 4, 'y6-17': 2.2, 'y18-39': 1, 'y40-64':1.2, 'y65+': 2}"
   ]
  },
  {
   "cell_type": "code",
   "execution_count": 5,
   "metadata": {
    "ExecuteTime": {
     "end_time": "2019-09-13T16:09:16.910200Z",
     "start_time": "2019-09-13T16:09:09.507066Z"
    }
   },
   "outputs": [],
   "source": [
    "declarations['money_per_month_not_grouped'] = declarations.apply(lambda x: tarifs[x['person_age']] * (370/12) * x['count_declarations'], axis=1)"
   ]
  },
  {
   "cell_type": "code",
   "execution_count": 6,
   "metadata": {
    "ExecuteTime": {
     "end_time": "2019-09-13T16:09:17.116202Z",
     "start_time": "2019-09-13T16:09:16.993165Z"
    }
   },
   "outputs": [],
   "source": [
    "declarations['money_per_month'] = declarations.groupby(['party_name', 'division_id']).money_per_month_not_grouped.transform('sum')"
   ]
  },
  {
   "cell_type": "code",
   "execution_count": 7,
   "metadata": {
    "ExecuteTime": {
     "end_time": "2019-09-13T16:09:27.597628Z",
     "start_time": "2019-09-13T16:09:17.204751Z"
    }
   },
   "outputs": [
    {
     "data": {
      "text/plain": [
       "<matplotlib.axes._subplots.AxesSubplot at 0x7fca9f3237b8>"
      ]
     },
     "execution_count": 7,
     "metadata": {},
     "output_type": "execute_result"
    }
   ],
   "source": [
    "declarations.money_per_month.plot.density()"
   ]
  },
  {
   "cell_type": "code",
   "execution_count": 8,
   "metadata": {
    "ExecuteTime": {
     "end_time": "2019-09-13T16:09:28.592292Z",
     "start_time": "2019-09-13T16:09:27.681902Z"
    }
   },
   "outputs": [
    {
     "data": {
      "text/plain": [
       "<matplotlib.axes._subplots.AxesSubplot at 0x7fca93501240>"
      ]
     },
     "execution_count": 8,
     "metadata": {},
     "output_type": "execute_result"
    },
    {
     "data": {
      "image/png": "[encoded data removed]",
      "text/plain": [
       "<Figure size 432x288 with 1 Axes>"
      ]
     },
     "metadata": {
      "needs_background": "light"
     },
     "output_type": "display_data"
    }
   ],
   "source": [
    "declarations[declarations.decl_count > 2000].money_per_month.plot.density()\n"
   ]
  },
  {
   "cell_type": "code",
   "execution_count": 15,
   "metadata": {
    "ExecuteTime": {
     "end_time": "2019-09-13T16:10:46.153584Z",
     "start_time": "2019-09-13T16:10:46.079852Z"
    }
   },
   "outputs": [
    {
     "data": {
      "text/plain": [
       "27892"
      ]
     },
     "execution_count": 15,
     "metadata": {},
     "output_type": "execute_result"
    }
   ],
   "source": [
    "declarations.drop_duplicates(['party_name', 'division_id'])"
   ]
  },
  {
   "cell_type": "code",
   "execution_count": 16,
   "metadata": {
    "ExecuteTime": {
     "end_time": "2019-09-13T16:11:23.915579Z",
     "start_time": "2019-09-13T16:11:23.841967Z"
    }
   },
   "outputs": [],
   "source": [
    "out = declarations.drop_duplicates(['party_name', 'division_id'])[['party_name', 'division_id', 'decl_count', 'money_per_month']]"
   ]
  },
  {
   "cell_type": "code",
   "execution_count": 17,
   "metadata": {
    "ExecuteTime": {
     "end_time": "2019-09-13T16:11:24.512922Z",
     "start_time": "2019-09-13T16:11:24.409945Z"
    }
   },
   "outputs": [],
   "source": [
    "out.to_json('output/payments_to_doctors.json', force_ascii=False, orient='records')\n"
   ]
  },
  {
   "cell_type": "code",
   "execution_count": null,
   "metadata": {},
   "outputs": [],
   "source": []
  }
 ],
 "metadata": {
  "kernelspec": {
   "display_name": "Python 3",
   "language": "python",
   "name": "python3"
  },
  "language_info": {
   "codemirror_mode": {
    "name": "ipython",
    "version": 3
   },
   "file_extension": ".py",
   "mimetype": "text/x-python",
   "name": "python",
   "nbconvert_exporter": "python",
   "pygments_lexer": "ipython3",
   "version": "3.6.9"
  },
  "varInspector": {
   "cols": {
    "lenName": 16,
    "lenType": 16,
    "lenVar": 40
   },
   "kernels_config": {
    "python": {
     "delete_cmd_postfix": "",
     "delete_cmd_prefix": "del ",
     "library": "var_list.py",
     "varRefreshCmd": "print(var_dic_list())"
    },
    "r": {
     "delete_cmd_postfix": ") ",
     "delete_cmd_prefix": "rm(",
     "library": "var_list.r",
     "varRefreshCmd": "cat(var_dic_list()) "
    }
   },
   "types_to_exclude": [
    "module",
    "function",
    "builtin_function_or_method",
    "instance",
    "_Feature"
   ],
   "window_display": false
  }
 },
 "nbformat": 4,
 "nbformat_minor": 2
}
